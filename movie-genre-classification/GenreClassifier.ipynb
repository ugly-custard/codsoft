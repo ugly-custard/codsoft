{
 "cells": [
  {
   "cell_type": "code",
   "execution_count": 1,
   "id": "ea67c035-4e4a-444d-a24c-6bcb2ee1154d",
   "metadata": {},
   "outputs": [],
   "source": [
    "import numpy as np\n",
    "import pandas as pd\n",
    "import matplotlib.pyplot as plt\n",
    "import seaborn as sns\n",
    "from random import randint\n",
    "\n",
    "import re\n",
    "import nltk\n",
    "#nltk.download('stopwords')\n",
    "#nltk.download('wordnet')\n",
    "from nltk.corpus import stopwords\n",
    "from nltk.stem import WordNetLemmatizer\n",
    "\n",
    "from imblearn.under_sampling import RandomUnderSampler\n",
    "from imblearn.over_sampling import RandomOverSampler\n",
    "\n",
    "from sklearn.linear_model import SGDClassifier\n",
    "from sklearn.naive_bayes import MultinomialNB\n",
    "from sklearn.linear_model import LogisticRegression\n",
    "from sklearn.model_selection import train_test_split\n",
    "from sklearn.feature_extraction.text import TfidfVectorizer, TfidfTransformer\n",
    "from sklearn.metrics import accuracy_score, precision_score, recall_score, f1_score, classification_report\n",
    "\n",
    "import warnings\n",
    "warnings.filterwarnings('ignore')"
   ]
  },
  {
   "cell_type": "code",
   "execution_count": 2,
   "id": "2a4253d9-188b-4b84-9439-fd0e6944705c",
   "metadata": {},
   "outputs": [],
   "source": [
    "def generate_model_report(y_actual, y_pred):\n",
    "    print(\"Accuracy:\", accuracy_score(y_actual, y_pred))\n",
    "    print(\"Precision:\", precision_score(y_actual, y_pred, average='weighted')) # 'micro', 'macro'\n",
    "    print(\"Recall:\", recall_score(y_actual, y_pred, average='weighted'))\n",
    "    print(\"F1 score:\", f1_score(y_actual, y_pred, average='weighted'))"
   ]
  },
  {
   "cell_type": "code",
   "execution_count": 3,
   "id": "2b7f3026-288b-43f8-bd7b-b0f0a522812a",
   "metadata": {},
   "outputs": [
    {
     "name": "stdout",
     "output_type": "stream",
     "text": [
      "(54214, 3)\n"
     ]
    },
    {
     "data": {
      "text/html": [
       "<div>\n",
       "<style scoped>\n",
       "    .dataframe tbody tr th:only-of-type {\n",
       "        vertical-align: middle;\n",
       "    }\n",
       "\n",
       "    .dataframe tbody tr th {\n",
       "        vertical-align: top;\n",
       "    }\n",
       "\n",
       "    .dataframe thead th {\n",
       "        text-align: right;\n",
       "    }\n",
       "</style>\n",
       "<table border=\"1\" class=\"dataframe\">\n",
       "  <thead>\n",
       "    <tr style=\"text-align: right;\">\n",
       "      <th></th>\n",
       "      <th>title</th>\n",
       "      <th>genre</th>\n",
       "      <th>synopsis</th>\n",
       "    </tr>\n",
       "  </thead>\n",
       "  <tbody>\n",
       "    <tr>\n",
       "      <th>1</th>\n",
       "      <td>Oscar et la dame rose (2009)</td>\n",
       "      <td>drama</td>\n",
       "      <td>Listening in to a conversation between his do...</td>\n",
       "    </tr>\n",
       "    <tr>\n",
       "      <th>2</th>\n",
       "      <td>Cupid (1997)</td>\n",
       "      <td>thriller</td>\n",
       "      <td>A brother and sister with a past incestuous r...</td>\n",
       "    </tr>\n",
       "    <tr>\n",
       "      <th>3</th>\n",
       "      <td>Young, Wild and Wonderful (1980)</td>\n",
       "      <td>adult</td>\n",
       "      <td>As the bus empties the students for their fie...</td>\n",
       "    </tr>\n",
       "    <tr>\n",
       "      <th>4</th>\n",
       "      <td>The Secret Sin (1915)</td>\n",
       "      <td>drama</td>\n",
       "      <td>To help their unemployed father make ends mee...</td>\n",
       "    </tr>\n",
       "    <tr>\n",
       "      <th>5</th>\n",
       "      <td>The Unrecovered (2007)</td>\n",
       "      <td>drama</td>\n",
       "      <td>The film's title refers not only to the un-re...</td>\n",
       "    </tr>\n",
       "  </tbody>\n",
       "</table>\n",
       "</div>"
      ],
      "text/plain": [
       "                                title       genre  \\\n",
       "1       Oscar et la dame rose (2009)       drama    \n",
       "2                       Cupid (1997)    thriller    \n",
       "3   Young, Wild and Wonderful (1980)       adult    \n",
       "4              The Secret Sin (1915)       drama    \n",
       "5             The Unrecovered (2007)       drama    \n",
       "\n",
       "                                            synopsis  \n",
       "1   Listening in to a conversation between his do...  \n",
       "2   A brother and sister with a past incestuous r...  \n",
       "3   As the bus empties the students for their fie...  \n",
       "4   To help their unemployed father make ends mee...  \n",
       "5   The film's title refers not only to the un-re...  "
      ]
     },
     "execution_count": 3,
     "metadata": {},
     "output_type": "execute_result"
    }
   ],
   "source": [
    "df = pd.read_csv(\n",
    "    'Genre Classification Dataset/train_data.txt',\n",
    "    sep=':::', \n",
    "    engine='python', \n",
    "    names=['title', 'genre', 'synopsis']\n",
    ")\n",
    "\n",
    "print(df.shape)\n",
    "df.head()"
   ]
  },
  {
   "cell_type": "code",
   "execution_count": 4,
   "id": "498e4035-fd9a-41b5-bf10-76fcefbbbb86",
   "metadata": {},
   "outputs": [
    {
     "name": "stdout",
     "output_type": "stream",
     "text": [
      "(54200, 3)\n"
     ]
    },
    {
     "data": {
      "text/html": [
       "<div>\n",
       "<style scoped>\n",
       "    .dataframe tbody tr th:only-of-type {\n",
       "        vertical-align: middle;\n",
       "    }\n",
       "\n",
       "    .dataframe tbody tr th {\n",
       "        vertical-align: top;\n",
       "    }\n",
       "\n",
       "    .dataframe thead th {\n",
       "        text-align: right;\n",
       "    }\n",
       "</style>\n",
       "<table border=\"1\" class=\"dataframe\">\n",
       "  <thead>\n",
       "    <tr style=\"text-align: right;\">\n",
       "      <th></th>\n",
       "      <th>title</th>\n",
       "      <th>genre</th>\n",
       "      <th>synopsis</th>\n",
       "    </tr>\n",
       "  </thead>\n",
       "  <tbody>\n",
       "    <tr>\n",
       "      <th>1</th>\n",
       "      <td>Edgar's Lunch (1998)</td>\n",
       "      <td>thriller</td>\n",
       "      <td>L.R. Brane loves his life - his car, his apar...</td>\n",
       "    </tr>\n",
       "    <tr>\n",
       "      <th>2</th>\n",
       "      <td>La guerra de papá (1977)</td>\n",
       "      <td>comedy</td>\n",
       "      <td>Spain, March 1964: Quico is a very naughty ch...</td>\n",
       "    </tr>\n",
       "    <tr>\n",
       "      <th>3</th>\n",
       "      <td>Off the Beaten Track (2010)</td>\n",
       "      <td>documentary</td>\n",
       "      <td>One year in the life of Albin and his family ...</td>\n",
       "    </tr>\n",
       "    <tr>\n",
       "      <th>4</th>\n",
       "      <td>Meu Amigo Hindu (2015)</td>\n",
       "      <td>drama</td>\n",
       "      <td>His father has died, he hasn't spoken with hi...</td>\n",
       "    </tr>\n",
       "    <tr>\n",
       "      <th>5</th>\n",
       "      <td>Er nu zhai (1955)</td>\n",
       "      <td>drama</td>\n",
       "      <td>Before he was known internationally as a mart...</td>\n",
       "    </tr>\n",
       "  </tbody>\n",
       "</table>\n",
       "</div>"
      ],
      "text/plain": [
       "                           title          genre  \\\n",
       "1          Edgar's Lunch (1998)       thriller    \n",
       "2      La guerra de papá (1977)         comedy    \n",
       "3   Off the Beaten Track (2010)    documentary    \n",
       "4        Meu Amigo Hindu (2015)          drama    \n",
       "5             Er nu zhai (1955)          drama    \n",
       "\n",
       "                                            synopsis  \n",
       "1   L.R. Brane loves his life - his car, his apar...  \n",
       "2   Spain, March 1964: Quico is a very naughty ch...  \n",
       "3   One year in the life of Albin and his family ...  \n",
       "4   His father has died, he hasn't spoken with hi...  \n",
       "5   Before he was known internationally as a mart...  "
      ]
     },
     "execution_count": 4,
     "metadata": {},
     "output_type": "execute_result"
    }
   ],
   "source": [
    "df_test = pd.read_csv(\n",
    "    'Genre Classification Dataset/test_data_solution.txt',\n",
    "    sep=':::', \n",
    "    engine='python', \n",
    "    names=['title', 'genre', 'synopsis']\n",
    ")\n",
    "\n",
    "print(df_test.shape)\n",
    "df_test.head()"
   ]
  },
  {
   "cell_type": "code",
   "execution_count": 5,
   "id": "8459cbf6-b52e-4572-8981-2c7f3c98e95e",
   "metadata": {},
   "outputs": [
    {
     "name": "stdout",
     "output_type": "stream",
     "text": [
      "(108414, 3)\n"
     ]
    },
    {
     "data": {
      "text/html": [
       "<div>\n",
       "<style scoped>\n",
       "    .dataframe tbody tr th:only-of-type {\n",
       "        vertical-align: middle;\n",
       "    }\n",
       "\n",
       "    .dataframe tbody tr th {\n",
       "        vertical-align: top;\n",
       "    }\n",
       "\n",
       "    .dataframe thead th {\n",
       "        text-align: right;\n",
       "    }\n",
       "</style>\n",
       "<table border=\"1\" class=\"dataframe\">\n",
       "  <thead>\n",
       "    <tr style=\"text-align: right;\">\n",
       "      <th></th>\n",
       "      <th>title</th>\n",
       "      <th>genre</th>\n",
       "      <th>synopsis</th>\n",
       "    </tr>\n",
       "  </thead>\n",
       "  <tbody>\n",
       "    <tr>\n",
       "      <th>0</th>\n",
       "      <td>Oscar et la dame rose (2009)</td>\n",
       "      <td>drama</td>\n",
       "      <td>Listening in to a conversation between his do...</td>\n",
       "    </tr>\n",
       "    <tr>\n",
       "      <th>1</th>\n",
       "      <td>Cupid (1997)</td>\n",
       "      <td>thriller</td>\n",
       "      <td>A brother and sister with a past incestuous r...</td>\n",
       "    </tr>\n",
       "    <tr>\n",
       "      <th>2</th>\n",
       "      <td>Young, Wild and Wonderful (1980)</td>\n",
       "      <td>adult</td>\n",
       "      <td>As the bus empties the students for their fie...</td>\n",
       "    </tr>\n",
       "    <tr>\n",
       "      <th>3</th>\n",
       "      <td>The Secret Sin (1915)</td>\n",
       "      <td>drama</td>\n",
       "      <td>To help their unemployed father make ends mee...</td>\n",
       "    </tr>\n",
       "    <tr>\n",
       "      <th>4</th>\n",
       "      <td>The Unrecovered (2007)</td>\n",
       "      <td>drama</td>\n",
       "      <td>The film's title refers not only to the un-re...</td>\n",
       "    </tr>\n",
       "  </tbody>\n",
       "</table>\n",
       "</div>"
      ],
      "text/plain": [
       "                                title       genre  \\\n",
       "0       Oscar et la dame rose (2009)       drama    \n",
       "1                       Cupid (1997)    thriller    \n",
       "2   Young, Wild and Wonderful (1980)       adult    \n",
       "3              The Secret Sin (1915)       drama    \n",
       "4             The Unrecovered (2007)       drama    \n",
       "\n",
       "                                            synopsis  \n",
       "0   Listening in to a conversation between his do...  \n",
       "1   A brother and sister with a past incestuous r...  \n",
       "2   As the bus empties the students for their fie...  \n",
       "3   To help their unemployed father make ends mee...  \n",
       "4   The film's title refers not only to the un-re...  "
      ]
     },
     "execution_count": 5,
     "metadata": {},
     "output_type": "execute_result"
    }
   ],
   "source": [
    "df = pd.concat((df, df_test), ignore_index=True)\n",
    "print(df.shape)\n",
    "df.head()"
   ]
  },
  {
   "cell_type": "code",
   "execution_count": 6,
   "id": "e5bd6657-d47a-43ac-8bf1-e210fabbcddb",
   "metadata": {},
   "outputs": [
    {
     "data": {
      "image/png": "[encoded data removed]",
      "text/plain": [
       "<Figure size 1200x500 with 1 Axes>"
      ]
     },
     "metadata": {},
     "output_type": "display_data"
    }
   ],
   "source": [
    "plt.figure(figsize=(12,5))\n",
    "sns.countplot(y=df['genre'], order=df['genre'].value_counts(ascending=True).index)\n",
    "plt.show()"
   ]
  },
  {
   "cell_type": "markdown",
   "id": "8836a035-0f9c-485d-9b3e-50ce92cae27a",
   "metadata": {},
   "source": [
    "# Data Cleaning"
   ]
  },
  {
   "cell_type": "code",
   "execution_count": 7,
   "id": "f3fa4d98-6f37-488e-b4a2-376d00afb3b6",
   "metadata": {},
   "outputs": [
    {
     "data": {
      "text/plain": [
       "0"
      ]
     },
     "execution_count": 7,
     "metadata": {},
     "output_type": "execute_result"
    }
   ],
   "source": [
    "df.duplicated().sum()"
   ]
  },
  {
   "cell_type": "code",
   "execution_count": 8,
   "id": "7ff01e97-87ea-4748-b662-04f29bbeb0f2",
   "metadata": {},
   "outputs": [
    {
     "data": {
      "text/plain": [
       "title       0\n",
       "genre       0\n",
       "synopsis    0\n",
       "dtype: int64"
      ]
     },
     "execution_count": 8,
     "metadata": {},
     "output_type": "execute_result"
    }
   ],
   "source": [
    "df.isna().sum()"
   ]
  },
  {
   "cell_type": "code",
   "execution_count": 9,
   "id": "93dd2bf8-31a4-4522-82df-2dadc1b1a6c5",
   "metadata": {},
   "outputs": [
    {
     "data": {
      "text/html": [
       "<div>\n",
       "<style scoped>\n",
       "    .dataframe tbody tr th:only-of-type {\n",
       "        vertical-align: middle;\n",
       "    }\n",
       "\n",
       "    .dataframe tbody tr th {\n",
       "        vertical-align: top;\n",
       "    }\n",
       "\n",
       "    .dataframe thead th {\n",
       "        text-align: right;\n",
       "    }\n",
       "</style>\n",
       "<table border=\"1\" class=\"dataframe\">\n",
       "  <thead>\n",
       "    <tr style=\"text-align: right;\">\n",
       "      <th></th>\n",
       "      <th>title</th>\n",
       "      <th>genre</th>\n",
       "      <th>synopsis</th>\n",
       "      <th>length</th>\n",
       "    </tr>\n",
       "  </thead>\n",
       "  <tbody>\n",
       "    <tr>\n",
       "      <th>0</th>\n",
       "      <td>Oscar et la dame rose (2009)</td>\n",
       "      <td>drama</td>\n",
       "      <td>Listening in to a conversation between his do...</td>\n",
       "      <td>546</td>\n",
       "    </tr>\n",
       "    <tr>\n",
       "      <th>1</th>\n",
       "      <td>Cupid (1997)</td>\n",
       "      <td>thriller</td>\n",
       "      <td>A brother and sister with a past incestuous r...</td>\n",
       "      <td>184</td>\n",
       "    </tr>\n",
       "    <tr>\n",
       "      <th>2</th>\n",
       "      <td>Young, Wild and Wonderful (1980)</td>\n",
       "      <td>adult</td>\n",
       "      <td>As the bus empties the students for their fie...</td>\n",
       "      <td>650</td>\n",
       "    </tr>\n",
       "    <tr>\n",
       "      <th>3</th>\n",
       "      <td>The Secret Sin (1915)</td>\n",
       "      <td>drama</td>\n",
       "      <td>To help their unemployed father make ends mee...</td>\n",
       "      <td>1082</td>\n",
       "    </tr>\n",
       "    <tr>\n",
       "      <th>4</th>\n",
       "      <td>The Unrecovered (2007)</td>\n",
       "      <td>drama</td>\n",
       "      <td>The film's title refers not only to the un-re...</td>\n",
       "      <td>625</td>\n",
       "    </tr>\n",
       "  </tbody>\n",
       "</table>\n",
       "</div>"
      ],
      "text/plain": [
       "                                title       genre  \\\n",
       "0       Oscar et la dame rose (2009)       drama    \n",
       "1                       Cupid (1997)    thriller    \n",
       "2   Young, Wild and Wonderful (1980)       adult    \n",
       "3              The Secret Sin (1915)       drama    \n",
       "4             The Unrecovered (2007)       drama    \n",
       "\n",
       "                                            synopsis  length  \n",
       "0   Listening in to a conversation between his do...     546  \n",
       "1   A brother and sister with a past incestuous r...     184  \n",
       "2   As the bus empties the students for their fie...     650  \n",
       "3   To help their unemployed father make ends mee...    1082  \n",
       "4   The film's title refers not only to the un-re...     625  "
      ]
     },
     "execution_count": 9,
     "metadata": {},
     "output_type": "execute_result"
    }
   ],
   "source": [
    "df['length'] = df['synopsis'].apply(lambda x: len(x))\n",
    "df.head()"
   ]
  },
  {
   "cell_type": "code",
   "execution_count": 10,
   "id": "6bad99b5-9544-4598-9589-2f1b07a303b6",
   "metadata": {},
   "outputs": [
    {
     "data": {
      "image/png": "[encoded data removed]",
      "text/plain": [
       "<Figure size 1200x500 with 1 Axes>"
      ]
     },
     "metadata": {},
     "output_type": "display_data"
    }
   ],
   "source": [
    "plt.figure(figsize=(12,5))\n",
    "sns.barplot(x='genre', y='length', data=df)\n",
    "plt.xticks(rotation=60)\n",
    "plt.show()"
   ]
  },
  {
   "cell_type": "code",
   "execution_count": 11,
   "id": "3965364c-1900-435e-aeb8-a7c76b3d510a",
   "metadata": {},
   "outputs": [],
   "source": [
    "wordnet = WordNetLemmatizer()\n",
    "\n",
    "def cleaner(text):\n",
    "    stop_words = set(stopwords.words('english'))\n",
    "    text = re.sub('[^a-zA-Z]', ' ', text.lower())\n",
    "    text = ' '.join([wordnet.lemmatize(word) for word in text.split() if not word in stop_words])\n",
    "    return text"
   ]
  },
  {
   "cell_type": "code",
   "execution_count": 12,
   "id": "e803a726-cdff-4ab1-9f84-17582f16baef",
   "metadata": {},
   "outputs": [
    {
     "name": "stdout",
     "output_type": "stream",
     "text": [
      "Before cleaning:  Listening in to a conversation between his doctor and parents, 10-year-old Oscar learns what nobody has the courage to tell him. He only has a few weeks to live. Furious, he refuses to speak to anyone except straight-talking Rose, the lady in pink he meets on the hospital stairs. As Christmas approaches, Rose uses her fantastical experiences as a professional wrestler, her imagination, wit and charm to allow Oscar to live life and love to the full, in the company of his friends Pop Corn, Einstein, Bacon and childhood sweetheart Peggy Blue.\n",
      "\n",
      "After cleaning: listening conversation doctor parent year old oscar learns nobody courage tell week live furious refuse speak anyone except straight talking rose lady pink meet hospital stair christmas approach rose us fantastical experience professional wrestler imagination wit charm allow oscar live life love full company friend pop corn einstein bacon childhood sweetheart peggy blue\n"
     ]
    }
   ],
   "source": [
    "print(\"Before cleaning:\", df['synopsis'].values[0])\n",
    "print(\"\\nAfter cleaning:\", cleaner(df['synopsis'].values[0]))"
   ]
  },
  {
   "cell_type": "code",
   "execution_count": 13,
   "id": "02e94e26-59dd-4fa7-9f8a-4425aeeb9f72",
   "metadata": {},
   "outputs": [],
   "source": [
    "df['clean_synopsis'] = df['synopsis'].apply(cleaner)\n",
    "df['clean_length'] = df['clean_synopsis'].apply(lambda x: len(x))"
   ]
  },
  {
   "cell_type": "code",
   "execution_count": 14,
   "id": "00e30b52-b72f-4399-8fc9-036dfdd0b285",
   "metadata": {},
   "outputs": [
    {
     "data": {
      "image/png": "[encoded data removed]",
      "text/plain": [
       "<Figure size 1200x500 with 1 Axes>"
      ]
     },
     "metadata": {},
     "output_type": "display_data"
    }
   ],
   "source": [
    "plt.figure(figsize=(12,5))\n",
    "sns.barplot(x='genre', y='clean_length', data=df)\n",
    "plt.xticks(rotation=60)\n",
    "plt.show()"
   ]
  },
  {
   "cell_type": "code",
   "execution_count": 15,
   "id": "0de058f1-9053-431d-97ed-a27a355d43b6",
   "metadata": {},
   "outputs": [
    {
     "data": {
      "text/html": [
       "<div>\n",
       "<style scoped>\n",
       "    .dataframe tbody tr th:only-of-type {\n",
       "        vertical-align: middle;\n",
       "    }\n",
       "\n",
       "    .dataframe tbody tr th {\n",
       "        vertical-align: top;\n",
       "    }\n",
       "\n",
       "    .dataframe thead th {\n",
       "        text-align: right;\n",
       "    }\n",
       "</style>\n",
       "<table border=\"1\" class=\"dataframe\">\n",
       "  <thead>\n",
       "    <tr style=\"text-align: right;\">\n",
       "      <th></th>\n",
       "      <th>title</th>\n",
       "      <th>genre</th>\n",
       "      <th>synopsis</th>\n",
       "      <th>length</th>\n",
       "      <th>clean_synopsis</th>\n",
       "      <th>clean_length</th>\n",
       "    </tr>\n",
       "  </thead>\n",
       "  <tbody>\n",
       "    <tr>\n",
       "      <th>0</th>\n",
       "      <td>Oscar et la dame rose (2009)</td>\n",
       "      <td>drama</td>\n",
       "      <td>Listening in to a conversation between his do...</td>\n",
       "      <td>546</td>\n",
       "      <td>listening conversation doctor parent year old ...</td>\n",
       "      <td>372</td>\n",
       "    </tr>\n",
       "    <tr>\n",
       "      <th>1</th>\n",
       "      <td>Cupid (1997)</td>\n",
       "      <td>thriller</td>\n",
       "      <td>A brother and sister with a past incestuous r...</td>\n",
       "      <td>184</td>\n",
       "      <td>brother sister past incestuous relationship cu...</td>\n",
       "      <td>117</td>\n",
       "    </tr>\n",
       "    <tr>\n",
       "      <th>2</th>\n",
       "      <td>Young, Wild and Wonderful (1980)</td>\n",
       "      <td>adult</td>\n",
       "      <td>As the bus empties the students for their fie...</td>\n",
       "      <td>650</td>\n",
       "      <td>bus empty student field trip museum natural hi...</td>\n",
       "      <td>381</td>\n",
       "    </tr>\n",
       "    <tr>\n",
       "      <th>3</th>\n",
       "      <td>The Secret Sin (1915)</td>\n",
       "      <td>drama</td>\n",
       "      <td>To help their unemployed father make ends mee...</td>\n",
       "      <td>1082</td>\n",
       "      <td>help unemployed father make end meet edith twi...</td>\n",
       "      <td>729</td>\n",
       "    </tr>\n",
       "    <tr>\n",
       "      <th>4</th>\n",
       "      <td>The Unrecovered (2007)</td>\n",
       "      <td>drama</td>\n",
       "      <td>The film's title refers not only to the un-re...</td>\n",
       "      <td>625</td>\n",
       "      <td>film title refers un recovered body ground zer...</td>\n",
       "      <td>399</td>\n",
       "    </tr>\n",
       "  </tbody>\n",
       "</table>\n",
       "</div>"
      ],
      "text/plain": [
       "                                title       genre  \\\n",
       "0       Oscar et la dame rose (2009)       drama    \n",
       "1                       Cupid (1997)    thriller    \n",
       "2   Young, Wild and Wonderful (1980)       adult    \n",
       "3              The Secret Sin (1915)       drama    \n",
       "4             The Unrecovered (2007)       drama    \n",
       "\n",
       "                                            synopsis  length  \\\n",
       "0   Listening in to a conversation between his do...     546   \n",
       "1   A brother and sister with a past incestuous r...     184   \n",
       "2   As the bus empties the students for their fie...     650   \n",
       "3   To help their unemployed father make ends mee...    1082   \n",
       "4   The film's title refers not only to the un-re...     625   \n",
       "\n",
       "                                      clean_synopsis  clean_length  \n",
       "0  listening conversation doctor parent year old ...           372  \n",
       "1  brother sister past incestuous relationship cu...           117  \n",
       "2  bus empty student field trip museum natural hi...           381  \n",
       "3  help unemployed father make end meet edith twi...           729  \n",
       "4  film title refers un recovered body ground zer...           399  "
      ]
     },
     "execution_count": 15,
     "metadata": {},
     "output_type": "execute_result"
    }
   ],
   "source": [
    "df.head()"
   ]
  },
  {
   "cell_type": "markdown",
   "id": "85218195-8d53-4f59-814c-f30ccf286aa8",
   "metadata": {},
   "source": [
    "## Map Genres"
   ]
  },
  {
   "cell_type": "code",
   "execution_count": 16,
   "id": "1b2f14ed-2f3d-4d9f-ba73-3853d94982b1",
   "metadata": {},
   "outputs": [
    {
     "data": {
      "text/plain": [
       "{' drama ': 0,\n",
       " ' thriller ': 1,\n",
       " ' adult ': 2,\n",
       " ' documentary ': 3,\n",
       " ' comedy ': 4,\n",
       " ' crime ': 5,\n",
       " ' reality-tv ': 6,\n",
       " ' horror ': 7,\n",
       " ' sport ': 8,\n",
       " ' animation ': 9,\n",
       " ' action ': 10,\n",
       " ' fantasy ': 11,\n",
       " ' short ': 12,\n",
       " ' sci-fi ': 13,\n",
       " ' music ': 14,\n",
       " ' adventure ': 15,\n",
       " ' talk-show ': 16,\n",
       " ' western ': 17,\n",
       " ' family ': 18,\n",
       " ' mystery ': 19,\n",
       " ' history ': 20,\n",
       " ' news ': 21,\n",
       " ' biography ': 22,\n",
       " ' romance ': 23,\n",
       " ' game-show ': 24,\n",
       " ' musical ': 25,\n",
       " ' war ': 26}"
      ]
     },
     "execution_count": 16,
     "metadata": {},
     "output_type": "execute_result"
    }
   ],
   "source": [
    "genre_mapper = dict(zip(\n",
    "    list(df['genre'].unique()),\n",
    "    list(range(len(df['genre'].unique()))))\n",
    ")\n",
    "\n",
    "genre_mapper"
   ]
  },
  {
   "cell_type": "code",
   "execution_count": 17,
   "id": "2f59791f-e9ca-4c6a-8095-4daa8389694a",
   "metadata": {
    "scrolled": true
   },
   "outputs": [
    {
     "data": {
      "text/html": [
       "<div>\n",
       "<style scoped>\n",
       "    .dataframe tbody tr th:only-of-type {\n",
       "        vertical-align: middle;\n",
       "    }\n",
       "\n",
       "    .dataframe tbody tr th {\n",
       "        vertical-align: top;\n",
       "    }\n",
       "\n",
       "    .dataframe thead th {\n",
       "        text-align: right;\n",
       "    }\n",
       "</style>\n",
       "<table border=\"1\" class=\"dataframe\">\n",
       "  <thead>\n",
       "    <tr style=\"text-align: right;\">\n",
       "      <th></th>\n",
       "      <th>title</th>\n",
       "      <th>genre</th>\n",
       "      <th>synopsis</th>\n",
       "      <th>length</th>\n",
       "      <th>clean_synopsis</th>\n",
       "      <th>clean_length</th>\n",
       "    </tr>\n",
       "  </thead>\n",
       "  <tbody>\n",
       "    <tr>\n",
       "      <th>0</th>\n",
       "      <td>Oscar et la dame rose (2009)</td>\n",
       "      <td>0</td>\n",
       "      <td>Listening in to a conversation between his do...</td>\n",
       "      <td>546</td>\n",
       "      <td>listening conversation doctor parent year old ...</td>\n",
       "      <td>372</td>\n",
       "    </tr>\n",
       "    <tr>\n",
       "      <th>1</th>\n",
       "      <td>Cupid (1997)</td>\n",
       "      <td>1</td>\n",
       "      <td>A brother and sister with a past incestuous r...</td>\n",
       "      <td>184</td>\n",
       "      <td>brother sister past incestuous relationship cu...</td>\n",
       "      <td>117</td>\n",
       "    </tr>\n",
       "    <tr>\n",
       "      <th>2</th>\n",
       "      <td>Young, Wild and Wonderful (1980)</td>\n",
       "      <td>2</td>\n",
       "      <td>As the bus empties the students for their fie...</td>\n",
       "      <td>650</td>\n",
       "      <td>bus empty student field trip museum natural hi...</td>\n",
       "      <td>381</td>\n",
       "    </tr>\n",
       "    <tr>\n",
       "      <th>3</th>\n",
       "      <td>The Secret Sin (1915)</td>\n",
       "      <td>0</td>\n",
       "      <td>To help their unemployed father make ends mee...</td>\n",
       "      <td>1082</td>\n",
       "      <td>help unemployed father make end meet edith twi...</td>\n",
       "      <td>729</td>\n",
       "    </tr>\n",
       "    <tr>\n",
       "      <th>4</th>\n",
       "      <td>The Unrecovered (2007)</td>\n",
       "      <td>0</td>\n",
       "      <td>The film's title refers not only to the un-re...</td>\n",
       "      <td>625</td>\n",
       "      <td>film title refers un recovered body ground zer...</td>\n",
       "      <td>399</td>\n",
       "    </tr>\n",
       "  </tbody>\n",
       "</table>\n",
       "</div>"
      ],
      "text/plain": [
       "                                title  genre  \\\n",
       "0       Oscar et la dame rose (2009)       0   \n",
       "1                       Cupid (1997)       1   \n",
       "2   Young, Wild and Wonderful (1980)       2   \n",
       "3              The Secret Sin (1915)       0   \n",
       "4             The Unrecovered (2007)       0   \n",
       "\n",
       "                                            synopsis  length  \\\n",
       "0   Listening in to a conversation between his do...     546   \n",
       "1   A brother and sister with a past incestuous r...     184   \n",
       "2   As the bus empties the students for their fie...     650   \n",
       "3   To help their unemployed father make ends mee...    1082   \n",
       "4   The film's title refers not only to the un-re...     625   \n",
       "\n",
       "                                      clean_synopsis  clean_length  \n",
       "0  listening conversation doctor parent year old ...           372  \n",
       "1  brother sister past incestuous relationship cu...           117  \n",
       "2  bus empty student field trip museum natural hi...           381  \n",
       "3  help unemployed father make end meet edith twi...           729  \n",
       "4  film title refers un recovered body ground zer...           399  "
      ]
     },
     "execution_count": 17,
     "metadata": {},
     "output_type": "execute_result"
    }
   ],
   "source": [
    "df['genre'] = df['genre'].map(genre_mapper)\n",
    "df.head()"
   ]
  },
  {
   "cell_type": "code",
   "execution_count": 18,
   "id": "08d0cd89-1206-451b-9d94-30f861e68c30",
   "metadata": {},
   "outputs": [
    {
     "data": {
      "text/plain": [
       "title             False\n",
       "genre             False\n",
       "synopsis          False\n",
       "length            False\n",
       "clean_synopsis    False\n",
       "clean_length      False\n",
       "dtype: bool"
      ]
     },
     "execution_count": 18,
     "metadata": {},
     "output_type": "execute_result"
    }
   ],
   "source": [
    "df.isna().any()"
   ]
  },
  {
   "cell_type": "markdown",
   "id": "b2f58476-8d1d-435e-a238-be23f07e922e",
   "metadata": {},
   "source": [
    "# Model"
   ]
  },
  {
   "cell_type": "code",
   "execution_count": 19,
   "id": "6e17f89a-bfa2-41d8-8cbe-9158da788b78",
   "metadata": {},
   "outputs": [],
   "source": [
    "vectorizer = TfidfVectorizer()\n",
    "X = vectorizer.fit_transform(df['clean_synopsis'].to_numpy())\n",
    "y = df['genre'].values"
   ]
  },
  {
   "cell_type": "code",
   "execution_count": 20,
   "id": "84bc1b94-6d83-41ee-96db-4953ac3a3c10",
   "metadata": {},
   "outputs": [
    {
     "data": {
      "text/plain": [
       "((108414, 158640), (108414,))"
      ]
     },
     "execution_count": 20,
     "metadata": {},
     "output_type": "execute_result"
    }
   ],
   "source": [
    "X.shape, y.shape"
   ]
  },
  {
   "cell_type": "markdown",
   "id": "691a8feb-4c55-4519-b7f4-0d49778dab7d",
   "metadata": {},
   "source": [
    "### Train Test Split"
   ]
  },
  {
   "cell_type": "code",
   "execution_count": 21,
   "id": "8bcf0ec3-b4e4-47f7-9532-617d44bc64f4",
   "metadata": {},
   "outputs": [
    {
     "name": "stdout",
     "output_type": "stream",
     "text": [
      "x_train size: (75889, 158640), x_test size: (32525, 158640)\n"
     ]
    }
   ],
   "source": [
    "X_train, X_test, y_train, y_test = train_test_split(X,y, test_size=0.3, random_state=0)\n",
    "print('x_train size: {}, x_test size: {}'.format(X_train.shape, X_test.shape))"
   ]
  },
  {
   "cell_type": "markdown",
   "id": "3353b517-5b65-4e16-98b8-cd79784a764d",
   "metadata": {},
   "source": [
    "### SVM Classifier"
   ]
  },
  {
   "cell_type": "code",
   "execution_count": 22,
   "id": "ca048297-d9ea-4d03-8b19-1af90c343fe5",
   "metadata": {},
   "outputs": [
    {
     "data": {
      "text/html": [
       "<style>#sk-container-id-1 {color: black;}#sk-container-id-1 pre{padding: 0;}#sk-container-id-1 div.sk-toggleable {background-color: white;}#sk-container-id-1 label.sk-toggleable__label {cursor: pointer;display: block;width: 100%;margin-bottom: 0;padding: 0.3em;box-sizing: border-box;text-align: center;}#sk-container-id-1 label.sk-toggleable__label-arrow:before {content: \"▸\";float: left;margin-right: 0.25em;color: #696969;}#sk-container-id-1 label.sk-toggleable__label-arrow:hover:before {color: black;}#sk-container-id-1 div.sk-estimator:hover label.sk-toggleable__label-arrow:before {color: black;}#sk-container-id-1 div.sk-toggleable__content {max-height: 0;max-width: 0;overflow: hidden;text-align: left;background-color: #f0f8ff;}#sk-container-id-1 div.sk-toggleable__content pre {margin: 0.2em;color: black;border-radius: 0.25em;background-color: #f0f8ff;}#sk-container-id-1 input.sk-toggleable__control:checked~div.sk-toggleable__content {max-height: 200px;max-width: 100%;overflow: auto;}#sk-container-id-1 input.sk-toggleable__control:checked~label.sk-toggleable__label-arrow:before {content: \"▾\";}#sk-container-id-1 div.sk-estimator input.sk-toggleable__control:checked~label.sk-toggleable__label {background-color: #d4ebff;}#sk-container-id-1 div.sk-label input.sk-toggleable__control:checked~label.sk-toggleable__label {background-color: #d4ebff;}#sk-container-id-1 input.sk-hidden--visually {border: 0;clip: rect(1px 1px 1px 1px);clip: rect(1px, 1px, 1px, 1px);height: 1px;margin: -1px;overflow: hidden;padding: 0;position: absolute;width: 1px;}#sk-container-id-1 div.sk-estimator {font-family: monospace;background-color: #f0f8ff;border: 1px dotted black;border-radius: 0.25em;box-sizing: border-box;margin-bottom: 0.5em;}#sk-container-id-1 div.sk-estimator:hover {background-color: #d4ebff;}#sk-container-id-1 div.sk-parallel-item::after {content: \"\";width: 100%;border-bottom: 1px solid gray;flex-grow: 1;}#sk-container-id-1 div.sk-label:hover label.sk-toggleable__label {background-color: #d4ebff;}#sk-container-id-1 div.sk-serial::before {content: \"\";position: absolute;border-left: 1px solid gray;box-sizing: border-box;top: 0;bottom: 0;left: 50%;z-index: 0;}#sk-container-id-1 div.sk-serial {display: flex;flex-direction: column;align-items: center;background-color: white;padding-right: 0.2em;padding-left: 0.2em;position: relative;}#sk-container-id-1 div.sk-item {position: relative;z-index: 1;}#sk-container-id-1 div.sk-parallel {display: flex;align-items: stretch;justify-content: center;background-color: white;position: relative;}#sk-container-id-1 div.sk-item::before, #sk-container-id-1 div.sk-parallel-item::before {content: \"\";position: absolute;border-left: 1px solid gray;box-sizing: border-box;top: 0;bottom: 0;left: 50%;z-index: -1;}#sk-container-id-1 div.sk-parallel-item {display: flex;flex-direction: column;z-index: 1;position: relative;background-color: white;}#sk-container-id-1 div.sk-parallel-item:first-child::after {align-self: flex-end;width: 50%;}#sk-container-id-1 div.sk-parallel-item:last-child::after {align-self: flex-start;width: 50%;}#sk-container-id-1 div.sk-parallel-item:only-child::after {width: 0;}#sk-container-id-1 div.sk-dashed-wrapped {border: 1px dashed gray;margin: 0 0.4em 0.5em 0.4em;box-sizing: border-box;padding-bottom: 0.4em;background-color: white;}#sk-container-id-1 div.sk-label label {font-family: monospace;font-weight: bold;display: inline-block;line-height: 1.2em;}#sk-container-id-1 div.sk-label-container {text-align: center;}#sk-container-id-1 div.sk-container {/* jupyter's `normalize.less` sets `[hidden] { display: none; }` but bootstrap.min.css set `[hidden] { display: none !important; }` so we also need the `!important` here to be able to override the default hidden behavior on the sphinx rendered scikit-learn.org. See: https://github.com/scikit-learn/scikit-learn/issues/21755 */display: inline-block !important;position: relative;}#sk-container-id-1 div.sk-text-repr-fallback {display: none;}</style><div id=\"sk-container-id-1\" class=\"sk-top-container\"><div class=\"sk-text-repr-fallback\"><pre>SGDClassifier(alpha=0.001, random_state=42)</pre><b>In a Jupyter environment, please rerun this cell to show the HTML representation or trust the notebook. <br />On GitHub, the HTML representation is unable to render, please try loading this page with nbviewer.org.</b></div><div class=\"sk-container\" hidden><div class=\"sk-item\"><div class=\"sk-estimator sk-toggleable\"><input class=\"sk-toggleable__control sk-hidden--visually\" id=\"sk-estimator-id-1\" type=\"checkbox\" checked><label for=\"sk-estimator-id-1\" class=\"sk-toggleable__label sk-toggleable__label-arrow\">SGDClassifier</label><div class=\"sk-toggleable__content\"><pre>SGDClassifier(alpha=0.001, random_state=42)</pre></div></div></div></div></div>"
      ],
      "text/plain": [
       "SGDClassifier(alpha=0.001, random_state=42)"
      ]
     },
     "execution_count": 22,
     "metadata": {},
     "output_type": "execute_result"
    }
   ],
   "source": [
    "svm = SGDClassifier(loss='hinge', penalty='l2', alpha=1e-3, random_state=42)\n",
    "svm.fit(X_train, y_train)"
   ]
  },
  {
   "cell_type": "code",
   "execution_count": 23,
   "id": "90a98d19-f495-407e-941d-1e3d6bfb423a",
   "metadata": {},
   "outputs": [],
   "source": [
    "y_pred_1 = svm.predict(X_test)"
   ]
  },
  {
   "cell_type": "code",
   "execution_count": 24,
   "id": "18c190b2-3e09-4442-a5b0-f680893e794e",
   "metadata": {},
   "outputs": [
    {
     "name": "stdout",
     "output_type": "stream",
     "text": [
      "Accuracy: 0.5487778631821676\n",
      "Precision: 0.5220293161648087\n",
      "Recall: 0.5487778631821676\n",
      "F1 score: 0.48736326956563836\n",
      "Classification Report:\n",
      "               precision    recall  f1-score   support\n",
      "\n",
      "           0       0.53      0.73      0.62      8095\n",
      "           1       0.34      0.06      0.10       909\n",
      "           2       0.73      0.27      0.39       355\n",
      "           3       0.54      0.93      0.69      7877\n",
      "           4       0.59      0.46      0.52      4526\n",
      "           5       0.22      0.03      0.06       305\n",
      "           6       0.60      0.13      0.21       527\n",
      "           7       0.61      0.58      0.59      1360\n",
      "           8       0.65      0.24      0.35       250\n",
      "           9       0.42      0.09      0.14       313\n",
      "          10       0.50      0.17      0.26       779\n",
      "          11       0.28      0.05      0.08       193\n",
      "          12       0.49      0.11      0.18      3070\n",
      "          13       0.54      0.17      0.26       384\n",
      "          14       0.58      0.23      0.32       425\n",
      "          15       0.54      0.21      0.30       469\n",
      "          16       0.33      0.05      0.09       237\n",
      "          17       0.71      0.83      0.77       601\n",
      "          18       0.41      0.06      0.10       483\n",
      "          19       0.35      0.03      0.06       188\n",
      "          20       0.00      0.00      0.00       156\n",
      "          21       0.70      0.08      0.15        86\n",
      "          22       0.00      0.00      0.00       169\n",
      "          23       0.00      0.00      0.00       402\n",
      "          24       0.63      0.68      0.66       114\n",
      "          25       0.20      0.02      0.03       178\n",
      "          26       0.67      0.05      0.10        74\n",
      "\n",
      "    accuracy                           0.55     32525\n",
      "   macro avg       0.45      0.23      0.26     32525\n",
      "weighted avg       0.52      0.55      0.49     32525\n",
      "\n"
     ]
    }
   ],
   "source": [
    "generate_model_report(y_test, y_pred_1)\n",
    "\n",
    "print(\"Classification Report:\\n\", classification_report(y_test, y_pred_1))"
   ]
  },
  {
   "cell_type": "markdown",
   "id": "0369f879-f90b-402f-91e7-30095a3dfca3",
   "metadata": {},
   "source": [
    "### NB Classifier"
   ]
  },
  {
   "cell_type": "code",
   "execution_count": 25,
   "id": "7eb9f2bb-163b-4d4d-bf59-60fcacfb2200",
   "metadata": {},
   "outputs": [
    {
     "data": {
      "text/html": [
       "<style>#sk-container-id-2 {color: black;}#sk-container-id-2 pre{padding: 0;}#sk-container-id-2 div.sk-toggleable {background-color: white;}#sk-container-id-2 label.sk-toggleable__label {cursor: pointer;display: block;width: 100%;margin-bottom: 0;padding: 0.3em;box-sizing: border-box;text-align: center;}#sk-container-id-2 label.sk-toggleable__label-arrow:before {content: \"▸\";float: left;margin-right: 0.25em;color: #696969;}#sk-container-id-2 label.sk-toggleable__label-arrow:hover:before {color: black;}#sk-container-id-2 div.sk-estimator:hover label.sk-toggleable__label-arrow:before {color: black;}#sk-container-id-2 div.sk-toggleable__content {max-height: 0;max-width: 0;overflow: hidden;text-align: left;background-color: #f0f8ff;}#sk-container-id-2 div.sk-toggleable__content pre {margin: 0.2em;color: black;border-radius: 0.25em;background-color: #f0f8ff;}#sk-container-id-2 input.sk-toggleable__control:checked~div.sk-toggleable__content {max-height: 200px;max-width: 100%;overflow: auto;}#sk-container-id-2 input.sk-toggleable__control:checked~label.sk-toggleable__label-arrow:before {content: \"▾\";}#sk-container-id-2 div.sk-estimator input.sk-toggleable__control:checked~label.sk-toggleable__label {background-color: #d4ebff;}#sk-container-id-2 div.sk-label input.sk-toggleable__control:checked~label.sk-toggleable__label {background-color: #d4ebff;}#sk-container-id-2 input.sk-hidden--visually {border: 0;clip: rect(1px 1px 1px 1px);clip: rect(1px, 1px, 1px, 1px);height: 1px;margin: -1px;overflow: hidden;padding: 0;position: absolute;width: 1px;}#sk-container-id-2 div.sk-estimator {font-family: monospace;background-color: #f0f8ff;border: 1px dotted black;border-radius: 0.25em;box-sizing: border-box;margin-bottom: 0.5em;}#sk-container-id-2 div.sk-estimator:hover {background-color: #d4ebff;}#sk-container-id-2 div.sk-parallel-item::after {content: \"\";width: 100%;border-bottom: 1px solid gray;flex-grow: 1;}#sk-container-id-2 div.sk-label:hover label.sk-toggleable__label {background-color: #d4ebff;}#sk-container-id-2 div.sk-serial::before {content: \"\";position: absolute;border-left: 1px solid gray;box-sizing: border-box;top: 0;bottom: 0;left: 50%;z-index: 0;}#sk-container-id-2 div.sk-serial {display: flex;flex-direction: column;align-items: center;background-color: white;padding-right: 0.2em;padding-left: 0.2em;position: relative;}#sk-container-id-2 div.sk-item {position: relative;z-index: 1;}#sk-container-id-2 div.sk-parallel {display: flex;align-items: stretch;justify-content: center;background-color: white;position: relative;}#sk-container-id-2 div.sk-item::before, #sk-container-id-2 div.sk-parallel-item::before {content: \"\";position: absolute;border-left: 1px solid gray;box-sizing: border-box;top: 0;bottom: 0;left: 50%;z-index: -1;}#sk-container-id-2 div.sk-parallel-item {display: flex;flex-direction: column;z-index: 1;position: relative;background-color: white;}#sk-container-id-2 div.sk-parallel-item:first-child::after {align-self: flex-end;width: 50%;}#sk-container-id-2 div.sk-parallel-item:last-child::after {align-self: flex-start;width: 50%;}#sk-container-id-2 div.sk-parallel-item:only-child::after {width: 0;}#sk-container-id-2 div.sk-dashed-wrapped {border: 1px dashed gray;margin: 0 0.4em 0.5em 0.4em;box-sizing: border-box;padding-bottom: 0.4em;background-color: white;}#sk-container-id-2 div.sk-label label {font-family: monospace;font-weight: bold;display: inline-block;line-height: 1.2em;}#sk-container-id-2 div.sk-label-container {text-align: center;}#sk-container-id-2 div.sk-container {/* jupyter's `normalize.less` sets `[hidden] { display: none; }` but bootstrap.min.css set `[hidden] { display: none !important; }` so we also need the `!important` here to be able to override the default hidden behavior on the sphinx rendered scikit-learn.org. See: https://github.com/scikit-learn/scikit-learn/issues/21755 */display: inline-block !important;position: relative;}#sk-container-id-2 div.sk-text-repr-fallback {display: none;}</style><div id=\"sk-container-id-2\" class=\"sk-top-container\"><div class=\"sk-text-repr-fallback\"><pre>MultinomialNB()</pre><b>In a Jupyter environment, please rerun this cell to show the HTML representation or trust the notebook. <br />On GitHub, the HTML representation is unable to render, please try loading this page with nbviewer.org.</b></div><div class=\"sk-container\" hidden><div class=\"sk-item\"><div class=\"sk-estimator sk-toggleable\"><input class=\"sk-toggleable__control sk-hidden--visually\" id=\"sk-estimator-id-2\" type=\"checkbox\" checked><label for=\"sk-estimator-id-2\" class=\"sk-toggleable__label sk-toggleable__label-arrow\">MultinomialNB</label><div class=\"sk-toggleable__content\"><pre>MultinomialNB()</pre></div></div></div></div></div>"
      ],
      "text/plain": [
       "MultinomialNB()"
      ]
     },
     "execution_count": 25,
     "metadata": {},
     "output_type": "execute_result"
    }
   ],
   "source": [
    "nb_classifier = MultinomialNB()\n",
    "nb_classifier.fit(X_train, y_train)"
   ]
  },
  {
   "cell_type": "code",
   "execution_count": 26,
   "id": "cdef763a-62af-48be-abf5-69e87a090b6c",
   "metadata": {},
   "outputs": [],
   "source": [
    "y_pred_2 = nb_classifier.predict(X_test)"
   ]
  },
  {
   "cell_type": "code",
   "execution_count": 27,
   "id": "2178fd63-d2ee-4613-aaa3-13b9b70b15c4",
   "metadata": {},
   "outputs": [
    {
     "name": "stdout",
     "output_type": "stream",
     "text": [
      "Accuracy: 0.44027671022290543\n",
      "Precision: 0.3917440805221834\n",
      "Recall: 0.44027671022290543\n",
      "F1 score: 0.30220130328440736\n",
      "Classification Report:\n",
      "               precision    recall  f1-score   support\n",
      "\n",
      "           0       0.38      0.88      0.53      8095\n",
      "           1       0.00      0.00      0.00       909\n",
      "           2       0.00      0.00      0.00       355\n",
      "           3       0.53      0.90      0.66      7877\n",
      "           4       0.62      0.04      0.07      4526\n",
      "           5       0.00      0.00      0.00       305\n",
      "           6       0.00      0.00      0.00       527\n",
      "           7       0.00      0.00      0.00      1360\n",
      "           8       0.00      0.00      0.00       250\n",
      "           9       0.00      0.00      0.00       313\n",
      "          10       0.00      0.00      0.00       779\n",
      "          11       0.00      0.00      0.00       193\n",
      "          12       0.90      0.00      0.01      3070\n",
      "          13       0.00      0.00      0.00       384\n",
      "          14       0.00      0.00      0.00       425\n",
      "          15       0.00      0.00      0.00       469\n",
      "          16       0.00      0.00      0.00       237\n",
      "          17       0.00      0.00      0.00       601\n",
      "          18       0.00      0.00      0.00       483\n",
      "          19       0.00      0.00      0.00       188\n",
      "          20       0.00      0.00      0.00       156\n",
      "          21       0.00      0.00      0.00        86\n",
      "          22       0.00      0.00      0.00       169\n",
      "          23       0.00      0.00      0.00       402\n",
      "          24       0.00      0.00      0.00       114\n",
      "          25       0.00      0.00      0.00       178\n",
      "          26       0.00      0.00      0.00        74\n",
      "\n",
      "    accuracy                           0.44     32525\n",
      "   macro avg       0.09      0.07      0.05     32525\n",
      "weighted avg       0.39      0.44      0.30     32525\n",
      "\n"
     ]
    }
   ],
   "source": [
    "generate_model_report(y_test, y_pred_2)\n",
    "\n",
    "print(\"Classification Report:\\n\", classification_report(y_test, y_pred_2))"
   ]
  },
  {
   "cell_type": "markdown",
   "id": "cf9fd5ac-50f6-4e1a-ac2b-a5c40971785b",
   "metadata": {},
   "source": [
    "## Logistic Regression"
   ]
  },
  {
   "cell_type": "code",
   "execution_count": 28,
   "id": "7425b30e-3680-47e5-9760-ef7b1b51b686",
   "metadata": {},
   "outputs": [
    {
     "data": {
      "text/html": [
       "<style>#sk-container-id-3 {color: black;}#sk-container-id-3 pre{padding: 0;}#sk-container-id-3 div.sk-toggleable {background-color: white;}#sk-container-id-3 label.sk-toggleable__label {cursor: pointer;display: block;width: 100%;margin-bottom: 0;padding: 0.3em;box-sizing: border-box;text-align: center;}#sk-container-id-3 label.sk-toggleable__label-arrow:before {content: \"▸\";float: left;margin-right: 0.25em;color: #696969;}#sk-container-id-3 label.sk-toggleable__label-arrow:hover:before {color: black;}#sk-container-id-3 div.sk-estimator:hover label.sk-toggleable__label-arrow:before {color: black;}#sk-container-id-3 div.sk-toggleable__content {max-height: 0;max-width: 0;overflow: hidden;text-align: left;background-color: #f0f8ff;}#sk-container-id-3 div.sk-toggleable__content pre {margin: 0.2em;color: black;border-radius: 0.25em;background-color: #f0f8ff;}#sk-container-id-3 input.sk-toggleable__control:checked~div.sk-toggleable__content {max-height: 200px;max-width: 100%;overflow: auto;}#sk-container-id-3 input.sk-toggleable__control:checked~label.sk-toggleable__label-arrow:before {content: \"▾\";}#sk-container-id-3 div.sk-estimator input.sk-toggleable__control:checked~label.sk-toggleable__label {background-color: #d4ebff;}#sk-container-id-3 div.sk-label input.sk-toggleable__control:checked~label.sk-toggleable__label {background-color: #d4ebff;}#sk-container-id-3 input.sk-hidden--visually {border: 0;clip: rect(1px 1px 1px 1px);clip: rect(1px, 1px, 1px, 1px);height: 1px;margin: -1px;overflow: hidden;padding: 0;position: absolute;width: 1px;}#sk-container-id-3 div.sk-estimator {font-family: monospace;background-color: #f0f8ff;border: 1px dotted black;border-radius: 0.25em;box-sizing: border-box;margin-bottom: 0.5em;}#sk-container-id-3 div.sk-estimator:hover {background-color: #d4ebff;}#sk-container-id-3 div.sk-parallel-item::after {content: \"\";width: 100%;border-bottom: 1px solid gray;flex-grow: 1;}#sk-container-id-3 div.sk-label:hover label.sk-toggleable__label {background-color: #d4ebff;}#sk-container-id-3 div.sk-serial::before {content: \"\";position: absolute;border-left: 1px solid gray;box-sizing: border-box;top: 0;bottom: 0;left: 50%;z-index: 0;}#sk-container-id-3 div.sk-serial {display: flex;flex-direction: column;align-items: center;background-color: white;padding-right: 0.2em;padding-left: 0.2em;position: relative;}#sk-container-id-3 div.sk-item {position: relative;z-index: 1;}#sk-container-id-3 div.sk-parallel {display: flex;align-items: stretch;justify-content: center;background-color: white;position: relative;}#sk-container-id-3 div.sk-item::before, #sk-container-id-3 div.sk-parallel-item::before {content: \"\";position: absolute;border-left: 1px solid gray;box-sizing: border-box;top: 0;bottom: 0;left: 50%;z-index: -1;}#sk-container-id-3 div.sk-parallel-item {display: flex;flex-direction: column;z-index: 1;position: relative;background-color: white;}#sk-container-id-3 div.sk-parallel-item:first-child::after {align-self: flex-end;width: 50%;}#sk-container-id-3 div.sk-parallel-item:last-child::after {align-self: flex-start;width: 50%;}#sk-container-id-3 div.sk-parallel-item:only-child::after {width: 0;}#sk-container-id-3 div.sk-dashed-wrapped {border: 1px dashed gray;margin: 0 0.4em 0.5em 0.4em;box-sizing: border-box;padding-bottom: 0.4em;background-color: white;}#sk-container-id-3 div.sk-label label {font-family: monospace;font-weight: bold;display: inline-block;line-height: 1.2em;}#sk-container-id-3 div.sk-label-container {text-align: center;}#sk-container-id-3 div.sk-container {/* jupyter's `normalize.less` sets `[hidden] { display: none; }` but bootstrap.min.css set `[hidden] { display: none !important; }` so we also need the `!important` here to be able to override the default hidden behavior on the sphinx rendered scikit-learn.org. See: https://github.com/scikit-learn/scikit-learn/issues/21755 */display: inline-block !important;position: relative;}#sk-container-id-3 div.sk-text-repr-fallback {display: none;}</style><div id=\"sk-container-id-3\" class=\"sk-top-container\"><div class=\"sk-text-repr-fallback\"><pre>LogisticRegression(multi_class=&#x27;multinomial&#x27;)</pre><b>In a Jupyter environment, please rerun this cell to show the HTML representation or trust the notebook. <br />On GitHub, the HTML representation is unable to render, please try loading this page with nbviewer.org.</b></div><div class=\"sk-container\" hidden><div class=\"sk-item\"><div class=\"sk-estimator sk-toggleable\"><input class=\"sk-toggleable__control sk-hidden--visually\" id=\"sk-estimator-id-3\" type=\"checkbox\" checked><label for=\"sk-estimator-id-3\" class=\"sk-toggleable__label sk-toggleable__label-arrow\">LogisticRegression</label><div class=\"sk-toggleable__content\"><pre>LogisticRegression(multi_class=&#x27;multinomial&#x27;)</pre></div></div></div></div></div>"
      ],
      "text/plain": [
       "LogisticRegression(multi_class='multinomial')"
      ]
     },
     "execution_count": 28,
     "metadata": {},
     "output_type": "execute_result"
    }
   ],
   "source": [
    "lg_regressor = LogisticRegression(multi_class='multinomial')\n",
    "lg_regressor.fit(X_train, y_train)"
   ]
  },
  {
   "cell_type": "code",
   "execution_count": 29,
   "id": "5879f6b4-449d-4350-9f43-46af459e63aa",
   "metadata": {},
   "outputs": [],
   "source": [
    "y_pred_3 = lg_regressor.predict(X_test)"
   ]
  },
  {
   "cell_type": "code",
   "execution_count": 30,
   "id": "9e238c12-e629-4120-b2e6-fd4ad3ee750e",
   "metadata": {},
   "outputs": [
    {
     "name": "stdout",
     "output_type": "stream",
     "text": [
      "Accuracy: 0.6007686395080707\n",
      "Precision: 0.5823353204844511\n",
      "Recall: 0.6007686395080707\n",
      "F1 score: 0.5610419885471822\n",
      "Classification Report:\n",
      "               precision    recall  f1-score   support\n",
      "\n",
      "           0       0.55      0.80      0.65      8095\n",
      "           1       0.45      0.16      0.23       909\n",
      "           2       0.74      0.26      0.38       355\n",
      "           3       0.67      0.86      0.75      7877\n",
      "           4       0.56      0.62      0.59      4526\n",
      "           5       0.37      0.06      0.10       305\n",
      "           6       0.56      0.23      0.33       527\n",
      "           7       0.68      0.60      0.64      1360\n",
      "           8       0.70      0.32      0.44       250\n",
      "           9       0.70      0.07      0.12       313\n",
      "          10       0.53      0.29      0.38       779\n",
      "          11       0.40      0.02      0.04       193\n",
      "          12       0.52      0.33      0.40      3070\n",
      "          13       0.57      0.28      0.37       384\n",
      "          14       0.67      0.42      0.52       425\n",
      "          15       0.57      0.18      0.28       469\n",
      "          16       0.52      0.19      0.27       237\n",
      "          17       0.90      0.76      0.82       601\n",
      "          18       0.44      0.11      0.17       483\n",
      "          19       0.20      0.01      0.01       188\n",
      "          20       0.00      0.00      0.00       156\n",
      "          21       0.64      0.08      0.14        86\n",
      "          22       0.00      0.00      0.00       169\n",
      "          23       0.53      0.02      0.04       402\n",
      "          24       0.84      0.61      0.71       114\n",
      "          25       0.31      0.02      0.04       178\n",
      "          26       0.25      0.01      0.03        74\n",
      "\n",
      "    accuracy                           0.60     32525\n",
      "   macro avg       0.51      0.27      0.31     32525\n",
      "weighted avg       0.58      0.60      0.56     32525\n",
      "\n"
     ]
    }
   ],
   "source": [
    "generate_model_report(y_test, y_pred_3)\n",
    "\n",
    "print(\"Classification Report:\\n\", classification_report(y_test, y_pred_3))"
   ]
  },
  {
   "cell_type": "markdown",
   "id": "2ac259ba-9b32-4483-940d-e6a0898be852",
   "metadata": {},
   "source": [
    "# Prediction"
   ]
  },
  {
   "cell_type": "code",
   "execution_count": 31,
   "id": "1cf4cbf2-388d-41c9-9a1e-616d896fe4bb",
   "metadata": {},
   "outputs": [],
   "source": [
    "def prediction(text):\n",
    "    stop_words = set(stopwords.words('english'))\n",
    "    text = re.sub('[^a-zA-Z]', ' ', text.lower())\n",
    "    text = ' '.join([wordnet.lemmatize(word) for word in text.split() if not word in stop_words])\n",
    "    temp = vectorizer.transform([text]).toarray()\n",
    "    genre = lambda x: list(genre_mapper.keys())[x]\n",
    "    return {\n",
    "        'SVM': genre(svm.predict(temp)[0]),\n",
    "        'NB': genre(nb_classifier.predict(temp)[0]),\n",
    "        'LG': genre(lg_regressor.predict(temp)[0])\n",
    "    }"
   ]
  },
  {
   "cell_type": "code",
   "execution_count": 35,
   "id": "7196f277-e178-4877-ba41-6765a4c664c9",
   "metadata": {},
   "outputs": [
    {
     "name": "stdout",
     "output_type": "stream",
     "text": [
      "Ttitle:  Judges (????) \n",
      "\n",
      "Script:  A young tomboy on life support is given a chance to come back to life to face her own giants by drawing strength from her out of body experiences with Old Testament Judges in the Bible in order stop a group of bullies who threaten to destroy other family's lives.\n",
      "\n",
      "Prediction: {'SVM': ' drama ', 'NB': ' drama ', 'LG': ' drama '}\n",
      "\n",
      "Actual Genre:  drama \n"
     ]
    }
   ],
   "source": [
    "row = randint(0,df_test.shape[0]-1)\n",
    "sample_script = df_test.synopsis[row]\n",
    "\n",
    "print('Ttitle:', df_test.title[row])\n",
    "print('\\nScript: {}'.format(sample_script))\n",
    "print('\\nPrediction:', prediction(sample_script))\n",
    "print('\\nActual Genre:', df_test.genre[row])"
   ]
  },
  {
   "cell_type": "markdown",
   "id": "179ec8e8-a787-4fba-86b2-3877924a1ef2",
   "metadata": {},
   "source": [
    "## Conclusion\n",
    "\n",
    "In conclusion, the Logistic Regression model outperforms the SGD Classifier and Multinomial NB Classifier for the given task. With an accuracy of 0.60, precision of 0.58, recall of 0.60, and F1-score of 0.56, it consistently shows balanced performance across evaluation metrics, effectively capturing data complexities. Therefore, the logistic regression model is the optimal choice for this multi-class classification task."
   ]
  }
 ],
 "metadata": {
  "kernelspec": {
   "display_name": "codsoft",
   "language": "python",
   "name": "codsoft"
  },
  "language_info": {
   "codemirror_mode": {
    "name": "ipython",
    "version": 3
   },
   "file_extension": ".py",
   "mimetype": "text/x-python",
   "name": "python",
   "nbconvert_exporter": "python",
   "pygments_lexer": "ipython3",
   "version": "3.11.5"
  }
 },
 "nbformat": 4,
 "nbformat_minor": 5
}
